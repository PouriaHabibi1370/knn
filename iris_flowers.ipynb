{
 "cells": [
  {
   "cell_type": "markdown",
   "id": "acc137fd",
   "metadata": {},
   "source": [
    "<h1 align=center style=\"line-height:200%;font-family:vazir;color:#0099cc\">\n",
    "<font face=\"vazir\" color=\"#0099cc\">\n",
    "گل‌های زنبق\n",
    "</font>\n",
    "</h1>"
   ]
  },
  {
   "cell_type": "markdown",
   "id": "267e3517",
   "metadata": {},
   "source": [
    "<h2 align=right style=\"line-height:200%;font-family:vazir;color:#0099cc\">\n",
    "<font face=\"vazir\" color=\"#0099cc\">\n",
    "بخش اول - بارگیری داده\n",
    "</font>\n",
    "</h2>"
   ]
  },
  {
   "cell_type": "markdown",
   "id": "813662f2",
   "metadata": {},
   "source": [
    "<p dir=rtl style=\"direction: rtl;text-align: right;line-height:200%;font-family:vazir;font-size:medium\">\n",
    "<font face=\"vazir\" size=3>\n",
    "ابتدا آرایه‌های مورد نیازمان را بارگیری می‌کنیم. هم‌چنین تعداد نمونه‌های آموزش را <code>n</code> و تعداد نمونه‌های آزمون را <code>m</code> می‌نامیم. \n",
    "</font>\n",
    "</p>"
   ]
  },
  {
   "cell_type": "code",
   "execution_count": 2,
   "id": "cece44e9",
   "metadata": {},
   "outputs": [
    {
     "name": "stdout",
     "output_type": "stream",
     "text": [
      "(120, 4)\n",
      "(120,)\n",
      "(30, 4)\n"
     ]
    }
   ],
   "source": [
    "import numpy as np\n",
    "irises = np.load('irises.npy')\n",
    "types = np.load('types.npy')\n",
    "new_irises = np.load('new_irises.npy')\n",
    "print(irises.shape)\n",
    "print(types.shape)\n",
    "print(new_irises.shape)\n",
    "n, m = len(irises), len(new_irises)"
   ]
  },
  {
   "cell_type": "markdown",
   "id": "67d7529f",
   "metadata": {},
   "source": [
    "<h2 align=right style=\"line-height:200%;font-family:vazir;color:#0099cc\">\n",
    "<font face=\"vazir\" color=\"#0099cc\">\n",
    "بخش دوم - محاسبه فاصله‌ها\n",
    "</font>\n",
    "</h2>"
   ]
  },
  {
   "cell_type": "markdown",
   "id": "3cf3695a",
   "metadata": {},
   "source": [
    "<p dir=rtl style=\"direction: rtl;text-align: right;line-height:200%;font-family:vazir;font-size:medium\">\n",
    "<font face=\"vazir\" size=3>\n",
    "ابتدا با کمک دو حلقه در تابع <code>calc_two_loops</code>، مجذور فاصله‌ها را محاسبه کرده و برمی‌گردانیم. برای این منظور کافیست عبارتی را جلوی تساوی قرار دهید که برابر با مجذور فاصله دو نقطه <code>new_points[i]</code> و <code>points[j]</code> است (چون جذر گرفتن تاثیری بر فاصله نسبی نقطه‌ها ندارد، به مجذور فاصله اکتفا می‌کنیم).\n",
    "</font>\n",
    "</p>"
   ]
  },
  {
   "cell_type": "code",
   "execution_count": 3,
   "id": "39b745a5",
   "metadata": {},
   "outputs": [],
   "source": [
    "\n",
    "def calc_two_loops(new_points, points):\n",
    "    m, n = len(new_points), len(points)\n",
    "    d = np.zeros((m, n))\n",
    "    for i in range(m):\n",
    "        for j in range(n):\n",
    "            \n",
    "            d[i,j]=sum((new_points[i,:] - points[j,:])**2)\n",
    "            \n",
    "    return(d)\n"
   ]
  },
  {
   "cell_type": "markdown",
   "id": "0a51f012",
   "metadata": {},
   "source": [
    "<p dir=rtl style=\"direction: rtl;text-align: right;line-height:200%;font-family:vazir;font-size:medium\">\n",
    "<font face=\"vazir\" size=3>\n",
    "در ادامه، همین کار را به کمک یک حلقه در تابع <code>calc_one_loop</code> انجام می‌دهیم. این بار جلوی تساوی، عبارتی را بنویسید که سطر <code>i</code>ام آرایه مجذور فاصله‌ها را نتیجه دهد.\n",
    "</font>\n",
    "</p>"
   ]
  },
  {
   "cell_type": "code",
   "execution_count": 4,
   "id": "021a9f1c",
   "metadata": {},
   "outputs": [],
   "source": [
    "\n",
    "def calc_one_loop(new_points, points):\n",
    "    \n",
    "    m, n = len(new_points), len(points)   \n",
    "    d = np.zeros((m,n))\n",
    "    for i in range(m):\n",
    "        \n",
    "        d[i]=sum((new_points[i,:].reshape(-1,1) - points.T)**2)\n",
    "    \n",
    "    return(d)"
   ]
  },
  {
   "cell_type": "markdown",
   "id": "c3353550",
   "metadata": {},
   "source": [
    "<p dir=rtl style=\"direction: rtl;text-align: right;line-height:200%;font-family:vazir;font-size:medium\">\n",
    "<font face=\"vazir\" size=3>\n",
    "        در نهایت همین کار را بدون حلقه در تابع <code>calc_no_loop</code> انجام می‌دهیم. این بار جلوی <code>return</code>، عبارتی را در یک خط بنویسید که حاصل آن کل آرایه مجذور فاصله‌ها باشد!\n",
    "        <br>\n",
    "راهنمایی: در این بخش و بخش قبلی باید از خاصیت پخش آرایه‌ها استفاده کنید. برای این منظور، می‌توانید آرایه‌ها را بازآرایی کنید.\n",
    "</font>\n",
    "</p>"
   ]
  },
  {
   "cell_type": "code",
   "execution_count": 5,
   "id": "f3e881e6",
   "metadata": {},
   "outputs": [],
   "source": [
    "\n",
    "def calc_no_loop(new_points, points):\n",
    "    return(np.sum(np.square(np.subtract(new_points[:,np.newaxis],points)),axis=2))\n",
    "   "
   ]
  },
  {
   "cell_type": "markdown",
   "id": "726d2ca6",
   "metadata": {},
   "source": [
    "<p dir=rtl style=\"direction: rtl;text-align: right;line-height:200%;font-family:vazir;font-size:medium\">\n",
    "<font face=\"vazir\" size=3>\n",
    "ممکن است ساختن آرایه فاصله‌ها بدون حلقه، پیچیده به نظر برسد. اما استفاده از خاصیت پخش آرایه‌ها به جای استفاده از حلقه هم باعث سریع‌تر شدن کد و هم کوتاه‌تر شدن آن می‌شود و خوب است به آن عادت کنید. سریع‌تر شدن کد را می‌توانید با ورودی دادن آرایه‌های بزرگ بیازمایید.         \n",
    "</font>\n",
    "</p>"
   ]
  },
  {
   "cell_type": "markdown",
   "id": "4a1eaa36",
   "metadata": {},
   "source": [
    "<p dir=rtl style=\"direction: rtl;text-align: right;line-height:200%;font-family:vazir;font-size:medium\">\n",
    "<font face=\"vazir\" size=3>\n",
    "محاسبه آرایه فاصله‌ها به سه روش فوق، نباید تفاوتی در نتیجه حاصل کند. از این رو کد زیر را اجرا کنید تا از برابر بودن خروجی سه تابع فوق اطمینان حاصل کنید. از این به بعد از آرایه ‍<code>d</code> به عنوان آرایه فاصله‌ها استفاده می‌کنیم.\n",
    "</font>\n",
    "</p>"
   ]
  },
  {
   "cell_type": "code",
   "execution_count": 6,
   "id": "6b3eda6e",
   "metadata": {},
   "outputs": [
    {
     "name": "stdout",
     "output_type": "stream",
     "text": [
      "Fine!\n"
     ]
    }
   ],
   "source": [
    "d2 = calc_two_loops(new_irises, irises)\n",
    "d1 = calc_one_loop(new_irises, irises)\n",
    "d = calc_no_loop(new_irises, irises)\n",
    "\n",
    "if np.allclose(d, d1, 1e-5) and np.allclose(d, d2, 1e-5):\n",
    "    print('Fine!')\n",
    "else:\n",
    "    print('There is something wrong!')"
   ]
  },
  {
   "cell_type": "markdown",
   "id": "f1a35b10",
   "metadata": {},
   "source": [
    "<h2 dir = rtl align=right style=\"line-height:200%;font-family:vazir;color:#0099cc\">\n",
    "<font face=\"vazir\" color=\"#0099cc\">\n",
    "بخش سوم - پیدا کردن <code>k</code> نزدیک‌ترین همسایه\n",
    "</font>\n",
    "</h2>"
   ]
  },
  {
   "cell_type": "markdown",
   "id": "da6315e4",
   "metadata": {},
   "source": [
    "<p dir=rtl style=\"direction: rtl;text-align: right;line-height:200%;font-family:vazir;font-size:medium\">\n",
    "<font face=\"vazir\" size=3>\n",
    "در ادامه، مقدار <code>k</code> را برابر ۱۰ قرار داده‌ایم. حال در برابر تساوی عبارتی بنویسید که آرایه‌ای <code>(m, k)</code> را خروجی دهد و در سطر <code>i</code> آن شماره <code>j</code> قرار گیرد اگر <code>irises[j]</code> جزو <code>k</code> تا نزدیک‌ترین نمونه آموزش به <code>new_irises[i]</code> باشد.\n",
    "        <br>\n",
    "راهنمایی: در مورد تابع <code>argpartition</code> نامپای و تفاوت آن با تابع <code>partition</code> که در این فصل آموختیم، تحقیق کنید.\n",
    "</font>\n",
    "</p>"
   ]
  },
  {
   "cell_type": "code",
   "execution_count": 7,
   "id": "e0423a6e",
   "metadata": {},
   "outputs": [
    {
     "data": {
      "text/plain": [
       "array([[  6,  14,   0,  32,  22,  17,  39,  21,  23,  37],\n",
       "       [ 10,   1,  30,  24,  20,   2,  36,   3,   6,  28],\n",
       "       [ 27,  13,   8,  39,   4,  29,  15,  12,  26,  25],\n",
       "       [ 14,  17,   0,  39,  37,  22,   8,  32,  26,  13],\n",
       "       [ 21,  20,  30,   3,   9,  24,   6,  19,  35,   5],\n",
       "       [ 10,   1,   2,   3,  38,   5,  36,  30,  24,   9],\n",
       "       [ 10,   1,  30,  24,  20,   2,  36,   3,   6,  28],\n",
       "       [  0,   6,  22,  23,  21,  14,   9,  32,  17,  39],\n",
       "       [ 39,  35,  17,  22,   4,  21,  37,  19,   8,  16],\n",
       "       [ 28,   6,  23,   0,  14,  21,  30,  32,  22,   9],\n",
       "       [ 47,  73,  69,  61,  52,  51,  41,  60, 101,  58],\n",
       "       [ 71,  43,  65,  64,  77,  72,  66,  76,  74,  54],\n",
       "       [ 71,  65,  74,  64,  66,  77,  76,  54,  57,  49],\n",
       "       [ 64,  65,  74,  66,  43,  50,  54,  72,  77,  71],\n",
       "       [ 78,  60,  47,  41,  73,  52,  63,  57,  51,  59],\n",
       "       [ 74,  65,  54,  64,  66,  43,  50,  57,  71,  75],\n",
       "       [ 77,  71,  44,  53,  72,  76,  49,  97,  56,  63],\n",
       "       [ 72,  66,  64,  74,  43,  65,  77,  54,  71,  76],\n",
       "       [ 77,  74,  44,  72,  71,  76,  54,  66,  43,  53],\n",
       "       [ 66,  54,  71,  76,  77,  74,  49,  57,  44,  72],\n",
       "       [ 90, 103, 106,  96, 112, 115,  93, 110,  83,  80],\n",
       "       [ 82,  96, 100, 108,  94, 115, 112, 105,  80,  84],\n",
       "       [111,  92,  97, 117,  81, 114, 102,  91, 101,  56],\n",
       "       [107,  67,  81, 117,  58, 114,  91,  99,  55,  70],\n",
       "       [110,  82,  90,  92,  96, 115,  93, 109, 112, 103],\n",
       "       [100, 104,  82,  86,  96,  93,  90,  87, 115, 110],\n",
       "       [107,  83,  87,  89,  67,  93,  58, 110,  81, 114],\n",
       "       [113,  90, 118, 112, 116,  96,  93,  82,  88,  92],\n",
       "       [115,  96, 112, 109,  80,  90,  92, 116, 119, 106],\n",
       "       [114, 102, 111,  81,  97,  67,  56, 107,  99, 101]], dtype=int64)"
      ]
     },
     "execution_count": 7,
     "metadata": {},
     "output_type": "execute_result"
    }
   ],
   "source": [
    "k = 10\n",
    "k_nearest = np.argpartition(d,k,axis=1)[:,:10]\n",
    "k_nearest"
   ]
  },
  {
   "cell_type": "markdown",
   "id": "32ded472",
   "metadata": {},
   "source": [
    "<h2 dir = rtl align=right style=\"line-height:200%;font-family:vazir;color:#0099cc\">\n",
    "<font face=\"vazir\" color=\"#0099cc\">\n",
    "بخش چهارم - پیدا کردن نوع <code>k</code> نزدیک‌ترین همسایه\n",
    "</font>\n",
    "</h2>"
   ]
  },
  {
   "cell_type": "markdown",
   "id": "34e63fc0",
   "metadata": {},
   "source": [
    "<p dir=rtl style=\"direction: rtl;text-align: right;line-height:200%;font-family:vazir;font-size:medium\">\n",
    "<font face=\"vazir\" size=3>\n",
    "حالا آرایه <code>k_nearest_types</code> را در یک خط مقداردهی کنید؛ طوری که هم‌شکل <code>k_nearest</code> باشد، اما به جای شماره هر نمونه آموزش شناسه نوع آن قرار گیرد.        \n",
    "</font>\n",
    "</p>"
   ]
  },
  {
   "cell_type": "code",
   "execution_count": 8,
   "id": "22edbad2",
   "metadata": {},
   "outputs": [
    {
     "data": {
      "text/plain": [
       "array([[0, 0, 0, 0, 0, 0, 0, 0, 0, 0],\n",
       "       [0, 0, 0, 0, 0, 0, 0, 0, 0, 0],\n",
       "       [0, 0, 0, 0, 0, 0, 0, 0, 0, 0],\n",
       "       [0, 0, 0, 0, 0, 0, 0, 0, 0, 0],\n",
       "       [0, 0, 0, 0, 0, 0, 0, 0, 0, 0],\n",
       "       [0, 0, 0, 0, 0, 0, 0, 0, 0, 0],\n",
       "       [0, 0, 0, 0, 0, 0, 0, 0, 0, 0],\n",
       "       [0, 0, 0, 0, 0, 0, 0, 0, 0, 0],\n",
       "       [0, 0, 0, 0, 0, 0, 0, 0, 0, 0],\n",
       "       [0, 0, 0, 0, 0, 0, 0, 0, 0, 0],\n",
       "       [1, 1, 1, 1, 1, 1, 1, 1, 2, 1],\n",
       "       [1, 1, 1, 1, 1, 1, 1, 1, 1, 1],\n",
       "       [1, 1, 1, 1, 1, 1, 1, 1, 1, 1],\n",
       "       [1, 1, 1, 1, 1, 1, 1, 1, 1, 1],\n",
       "       [1, 1, 1, 1, 1, 1, 1, 1, 1, 1],\n",
       "       [1, 1, 1, 1, 1, 1, 1, 1, 1, 1],\n",
       "       [1, 1, 1, 1, 1, 1, 1, 2, 1, 1],\n",
       "       [1, 1, 1, 1, 1, 1, 1, 1, 1, 1],\n",
       "       [1, 1, 1, 1, 1, 1, 1, 1, 1, 1],\n",
       "       [1, 1, 1, 1, 1, 1, 1, 1, 1, 1],\n",
       "       [2, 2, 2, 2, 2, 2, 2, 2, 2, 2],\n",
       "       [2, 2, 2, 2, 2, 2, 2, 2, 2, 2],\n",
       "       [2, 2, 2, 2, 2, 2, 2, 2, 2, 1],\n",
       "       [2, 1, 2, 2, 1, 2, 2, 2, 1, 1],\n",
       "       [2, 2, 2, 2, 2, 2, 2, 2, 2, 2],\n",
       "       [2, 2, 2, 2, 2, 2, 2, 2, 2, 2],\n",
       "       [2, 2, 2, 2, 1, 2, 1, 2, 2, 2],\n",
       "       [2, 2, 2, 2, 2, 2, 2, 2, 2, 2],\n",
       "       [2, 2, 2, 2, 2, 2, 2, 2, 2, 2],\n",
       "       [2, 2, 2, 2, 2, 1, 1, 2, 2, 2]], dtype=int64)"
      ]
     },
     "execution_count": 8,
     "metadata": {},
     "output_type": "execute_result"
    }
   ],
   "source": [
    "k_nearest_types = types[k_nearest]\n",
    "k_nearest_types"
   ]
  },
  {
   "cell_type": "markdown",
   "id": "7ddb2cdb",
   "metadata": {},
   "source": [
    "<h2 align=right style=\"line-height:200%;font-family:vazir;color:#0099cc\">\n",
    "<font face=\"vazir\" color=\"#0099cc\">\n",
    "بخش پنجم - تعیین نوع گل‌ها\n",
    "</font>\n",
    "</h2>"
   ]
  },
  {
   "cell_type": "markdown",
   "id": "637d0df2",
   "metadata": {},
   "source": [
    "<p dir=rtl style=\"direction: rtl;text-align: right;line-height:200%;font-family:vazir;font-size:medium\">\n",
    "<font face=\"vazir\" size=3>\n",
    "در نهایت، باید آرایه <code>predicted_types</code> به طول <code>m</code> را بسازیم که در خانه <code>predicted_types[i]</code>، پرتکرارترین شناسه در <code>k_nearest_types[i]</code> به عنوان شناسه نوع پیش‌بینی شده برای <code>new_irises[i]</code> قرار می‌گیرد. این کار را به کمک تابع <code>mode</code> که داخل کتابخانه <code>scipy</code> قرار دارد، انجام داده‌ایم.\n",
    "</font>\n",
    "</p>"
   ]
  },
  {
   "cell_type": "code",
   "execution_count": 9,
   "id": "63421504",
   "metadata": {},
   "outputs": [],
   "source": [
    "from scipy import stats"
   ]
  },
  {
   "cell_type": "code",
   "execution_count": 10,
   "id": "56f71418",
   "metadata": {},
   "outputs": [
    {
     "data": {
      "text/plain": [
       "array([0, 0, 0, 0, 0, 0, 0, 0, 0, 0, 1, 1, 1, 1, 1, 1, 1, 1, 1, 1, 2, 2,\n",
       "       2, 2, 2, 2, 2, 2, 2, 2], dtype=int64)"
      ]
     },
     "execution_count": 10,
     "metadata": {},
     "output_type": "execute_result"
    }
   ],
   "source": [
    "predicted_types = stats.mode(k_nearest_types, axis=1).mode.reshape(m)\n",
    "predicted_types"
   ]
  },
  {
   "cell_type": "markdown",
   "id": "1237953f",
   "metadata": {},
   "source": [
    "<p dir=rtl style=\"direction: rtl;text-align: right;line-height:200%;font-family:vazir;font-size:medium\">\n",
    "<font face=\"vazir\" size=3>\n",
    "پس از آن، آرایه <code>new_types</code> بارگیری شده‌است که حاوی جواب‌های درست است. از روی آن، دقت دسته‌بندی‌ را محاسبه و در متغیر <code>accuracy</code> ذخیره کنید. دقت دسته‌بندی برابر با تعداد پیش‌بینی‌های درست تقسیم بر تعداد نمونه‌های آزمون است. اگر مراحل کار را درست انجام داده‌باشید، دقت باید برابر ۱ باشد (یعنی دسته‌بند همه نوع گل‌ها را درست پیش‌بینی می‌کند).\n",
    "</font>\n",
    "</p>"
   ]
  },
  {
   "cell_type": "code",
   "execution_count": 11,
   "id": "6c855388",
   "metadata": {},
   "outputs": [
    {
     "name": "stdout",
     "output_type": "stream",
     "text": [
      "Accuracy: 1.0\n"
     ]
    }
   ],
   "source": [
    "new_types = np.load('new_types.npy')\n",
    "accuracy =len(predicted_types) / len(new_types)\n",
    "print('Accuracy:', accuracy)"
   ]
  },
  {
   "cell_type": "markdown",
   "id": "d6351c78",
   "metadata": {},
   "source": [
    "<p dir=rtl style=\"direction: rtl;text-align: right;line-height:200%;font-family:vazir;font-size:medium\">\n",
    "<font face=\"vazir\" size=3>\n",
    "به کمک سلول زیر، کد خود را به همراه جوابتان فشرده کرده و فایل result.zip را درون سامانه بارگذاری کنید.\n",
    "</font>\n",
    "</p>"
   ]
  },
  {
   "cell_type": "markdown",
   "id": "18b1bc75",
   "metadata": {},
   "source": [
    "<h2 align=right style=\"line-height:200%;font-family:vazir;color:#0099cc\">\n",
    "<font face=\"vazir\" color=\"#0099cc\">\n",
    "<b>سلول جواب‌ساز</b>\n",
    "</font>\n",
    "</h2>"
   ]
  },
  {
   "cell_type": "code",
   "execution_count": null,
   "id": "76ccca15",
   "metadata": {},
   "outputs": [],
   "source": [
    "import zipfile\n",
    "from inspect import getsource\n",
    "\n",
    "np.savez(\"answers.npz\", k_nearest = k_nearest, k_nearest_types = k_nearest_types, predicted_types = predicted_types)\n",
    "\n",
    "def compress(file_names):\n",
    "    print(\"File Paths:\")\n",
    "    print(file_names)\n",
    "    # Select the compression mode ZIP_DEFLATED for compression\n",
    "    # or zipfile.ZIP_STORED to just store the file\n",
    "    compression = zipfile.ZIP_DEFLATED\n",
    "    # create the zip file first parameter path/name, second mode\n",
    "    with zipfile.ZipFile(\"result.zip\", mode=\"w\") as zf:\n",
    "        for file_name in file_names:\n",
    "            # Add file to the zip file\n",
    "            # first parameter file to zip, second filename in zip\n",
    "            zf.write('./' + file_name, file_name, compress_type=compression)\n",
    "\n",
    "imp = 'import numpy as np\\n'\n",
    "%save calc_two_loops imp + getsource(calc_two_loops)\n",
    "%save calc_one_loop imp + getsource(calc_one_loop)\n",
    "%save calc_no_loop imp + getsource(calc_no_loop)\n",
    "\n",
    "file_names = [\"calc_two_loops.py\", \"calc_one_loop.py\", \"calc_no_loop.py\",\n",
    "              \"answers.npz\", \"iris_flowers.ipynb\"]\n",
    "compress(file_names)"
   ]
  },
  {
   "cell_type": "code",
   "execution_count": null,
   "id": "5abd0a38-e870-4dfd-816c-0649e593e890",
   "metadata": {},
   "outputs": [],
   "source": []
  }
 ],
 "metadata": {
  "interpreter": {
   "hash": "5fdf65b13ec7ab651f4612fa3022cf80c3b463bf71eaa658ef12e73ad71e0d1b"
  },
  "kernelspec": {
   "display_name": "Python 3.9.2 64-bit ('qenv': venv)",
   "name": "python3"
  },
  "language_info": {
   "codemirror_mode": {
    "name": "ipython",
    "version": 3
   },
   "file_extension": ".py",
   "mimetype": "text/x-python",
   "name": "python",
   "nbconvert_exporter": "python",
   "pygments_lexer": "ipython3",
   "version": "3.9.2"
  }
 },
 "nbformat": 4,
 "nbformat_minor": 5
}
