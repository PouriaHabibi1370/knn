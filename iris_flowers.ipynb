{
 "cells": [
  {
   "cell_type": "markdown",
   "id": "acc137fd",
   "metadata": {},
   "source": [
    "<h1 align=center style=\"line-height:200%;font-family:vazir;color:#0099cc\">\n",
    "<font face=\"vazir\" color=\"#0099cc\">\n",
    "گل‌های زنبق\n",
    "</font>\n",
    "</h1>"
   ]
  },
  {
   "cell_type": "markdown",
   "id": "267e3517",
   "metadata": {},
   "source": [
    "<h2 align=right style=\"line-height:200%;font-family:vazir;color:#0099cc\">\n",
    "<font face=\"vazir\" color=\"#0099cc\">\n",
    "بخش اول - بارگیری داده\n",
    "</font>\n",
    "</h2>"
   ]
  },
  {
   "cell_type": "markdown",
   "id": "813662f2",
   "metadata": {},
   "source": [
    "<p dir=rtl style=\"direction: rtl;text-align: right;line-height:200%;font-family:vazir;font-size:medium\">\n",
    "<font face=\"vazir\" size=3>\n",
    "ابتدا آرایه‌های مورد نیازمان را بارگیری می‌کنیم. هم‌چنین تعداد نمونه‌های آموزش را <code>n</code> و تعداد نمونه‌های آزمون را <code>m</code> می‌نامیم. \n",
    "</font>\n",
    "</p>"
   ]
  },
  {
   "cell_type": "code",
   "execution_count": 9,
   "id": "cece44e9",
   "metadata": {},
   "outputs": [
    {
     "name": "stdout",
     "output_type": "stream",
     "text": [
      "(8, 4)\n",
      "(120,)\n",
      "(5, 4)\n"
     ]
    }
   ],
   "source": [
    "import numpy as np\n",
    "irises = np.load('irises.npy')[:8,:4]\n",
    "types = np.load('types.npy')\n",
    "new_irises = np.load('new_irises.npy')[:5,:4]\n",
    "print(irises.shape)\n",
    "print(types.shape)\n",
    "print(new_irises.shape)\n",
    "n, m = len(irises), len(new_irises)"
   ]
  },
  {
   "cell_type": "markdown",
   "id": "67d7529f",
   "metadata": {},
   "source": [
    "<h2 align=right style=\"line-height:200%;font-family:vazir;color:#0099cc\">\n",
    "<font face=\"vazir\" color=\"#0099cc\">\n",
    "بخش دوم - محاسبه فاصله‌ها\n",
    "</font>\n",
    "</h2>"
   ]
  },
  {
   "cell_type": "markdown",
   "id": "3cf3695a",
   "metadata": {},
   "source": [
    "<p dir=rtl style=\"direction: rtl;text-align: right;line-height:200%;font-family:vazir;font-size:medium\">\n",
    "<font face=\"vazir\" size=3>\n",
    "ابتدا با کمک دو حلقه در تابع <code>calc_two_loops</code>، مجذور فاصله‌ها را محاسبه کرده و برمی‌گردانیم. برای این منظور کافیست عبارتی را جلوی تساوی قرار دهید که برابر با مجذور فاصله دو نقطه <code>new_points[i]</code> و <code>points[j]</code> است (چون جذر گرفتن تاثیری بر فاصله نسبی نقطه‌ها ندارد، به مجذور فاصله اکتفا می‌کنیم).\n",
    "</font>\n",
    "</p>"
   ]
  },
  {
   "cell_type": "code",
   "execution_count": 10,
   "id": "39b745a5",
   "metadata": {},
   "outputs": [],
   "source": [
    "\n",
    "def calc_two_loops(new_points, points):\n",
    "    m, n = len(new_points), len(points)\n",
    "    d = np.zeros((m, n))\n",
    "    for i in range(m):\n",
    "        for j in range(n):\n",
    "            \n",
    "            d[i,j]=sum((new_points[i,:] - points[j,:])**2)\n",
    "            \n",
    "    return(d)\n"
   ]
  },
  {
   "cell_type": "markdown",
   "id": "0a51f012",
   "metadata": {},
   "source": [
    "<p dir=rtl style=\"direction: rtl;text-align: right;line-height:200%;font-family:vazir;font-size:medium\">\n",
    "<font face=\"vazir\" size=3>\n",
    "در ادامه، همین کار را به کمک یک حلقه در تابع <code>calc_one_loop</code> انجام می‌دهیم. این بار جلوی تساوی، عبارتی را بنویسید که سطر <code>i</code>ام آرایه مجذور فاصله‌ها را نتیجه دهد.\n",
    "</font>\n",
    "</p>"
   ]
  },
  {
   "cell_type": "code",
   "execution_count": 11,
   "id": "021a9f1c",
   "metadata": {},
   "outputs": [],
   "source": [
    "\n",
    "def calc_one_loop(new_points, points):\n",
    "    \n",
    "    m, n = len(new_points), len(points)   \n",
    "    d = np.zeros((m,n))\n",
    "    for i in range(m):\n",
    "        \n",
    "        d[i]=sum((new_points[i,:].reshape(-1,1) - points.T)**2)\n",
    "    \n",
    "    return(d)"
   ]
  },
  {
   "cell_type": "markdown",
   "id": "c3353550",
   "metadata": {},
   "source": [
    "<p dir=rtl style=\"direction: rtl;text-align: right;line-height:200%;font-family:vazir;font-size:medium\">\n",
    "<font face=\"vazir\" size=3>\n",
    "        در نهایت همین کار را بدون حلقه در تابع <code>calc_no_loop</code> انجام می‌دهیم. این بار جلوی <code>return</code>، عبارتی را در یک خط بنویسید که حاصل آن کل آرایه مجذور فاصله‌ها باشد!\n",
    "        <br>\n",
    "راهنمایی: در این بخش و بخش قبلی باید از خاصیت پخش آرایه‌ها استفاده کنید. برای این منظور، می‌توانید آرایه‌ها را بازآرایی کنید.\n",
    "</font>\n",
    "</p>"
   ]
  },
  {
   "cell_type": "code",
   "execution_count": 12,
   "id": "f3e881e6",
   "metadata": {},
   "outputs": [],
   "source": [
    "\n",
    "def calc_no_loop(new_points, points):\n",
    "    return(np.sum(np.square(np.subtract(new_points[:,np.newaxis],points)),axis=2))\n",
    "   "
   ]
  },
  {
   "cell_type": "markdown",
   "id": "726d2ca6",
   "metadata": {},
   "source": [
    "<p dir=rtl style=\"direction: rtl;text-align: right;line-height:200%;font-family:vazir;font-size:medium\">\n",
    "<font face=\"vazir\" size=3>\n",
    "ممکن است ساختن آرایه فاصله‌ها بدون حلقه، پیچیده به نظر برسد. اما استفاده از خاصیت پخش آرایه‌ها به جای استفاده از حلقه هم باعث سریع‌تر شدن کد و هم کوتاه‌تر شدن آن می‌شود و خوب است به آن عادت کنید. سریع‌تر شدن کد را می‌توانید با ورودی دادن آرایه‌های بزرگ بیازمایید.         \n",
    "</font>\n",
    "</p>"
   ]
  },
  {
   "cell_type": "markdown",
   "id": "4a1eaa36",
   "metadata": {},
   "source": [
    "<p dir=rtl style=\"direction: rtl;text-align: right;line-height:200%;font-family:vazir;font-size:medium\">\n",
    "<font face=\"vazir\" size=3>\n",
    "محاسبه آرایه فاصله‌ها به سه روش فوق، نباید تفاوتی در نتیجه حاصل کند. از این رو کد زیر را اجرا کنید تا از برابر بودن خروجی سه تابع فوق اطمینان حاصل کنید. از این به بعد از آرایه ‍<code>d</code> به عنوان آرایه فاصله‌ها استفاده می‌کنیم.\n",
    "</font>\n",
    "</p>"
   ]
  },
  {
   "cell_type": "code",
   "execution_count": 13,
   "id": "6b3eda6e",
   "metadata": {},
   "outputs": [
    {
     "name": "stdout",
     "output_type": "stream",
     "text": [
      "Fine!\n"
     ]
    }
   ],
   "source": [
    "d2 = calc_two_loops(new_irises, irises)\n",
    "d1 = calc_one_loop(new_irises, irises)\n",
    "d = calc_no_loop(new_irises, irises)\n",
    "\n",
    "if np.allclose(d, d1, 1e-5) and np.allclose(d, d2, 1e-5):\n",
    "    print('Fine!')\n",
    "else:\n",
    "    print('There is something wrong!')"
   ]
  },
  {
   "cell_type": "markdown",
   "id": "f1a35b10",
   "metadata": {},
   "source": [
    "<h2 dir = rtl align=right style=\"line-height:200%;font-family:vazir;color:#0099cc\">\n",
    "<font face=\"vazir\" color=\"#0099cc\">\n",
    "بخش سوم - پیدا کردن <code>k</code> نزدیک‌ترین همسایه\n",
    "</font>\n",
    "</h2>"
   ]
  },
  {
   "cell_type": "markdown",
   "id": "da6315e4",
   "metadata": {},
   "source": [
    "<p dir=rtl style=\"direction: rtl;text-align: right;line-height:200%;font-family:vazir;font-size:medium\">\n",
    "<font face=\"vazir\" size=3>\n",
    "در ادامه، مقدار <code>k</code> را برابر ۱۰ قرار داده‌ایم. حال در برابر تساوی عبارتی بنویسید که آرایه‌ای <code>(m, k)</code> را خروجی دهد و در سطر <code>i</code> آن شماره <code>j</code> قرار گیرد اگر <code>irises[j]</code> جزو <code>k</code> تا نزدیک‌ترین نمونه آموزش به <code>new_irises[i]</code> باشد.\n",
    "        <br>\n",
    "راهنمایی: در مورد تابع <code>argpartition</code> نامپای و تفاوت آن با تابع <code>partition</code> که در این فصل آموختیم، تحقیق کنید.\n",
    "</font>\n",
    "</p>"
   ]
  },
  {
   "cell_type": "code",
   "execution_count": 14,
   "id": "e0423a6e",
   "metadata": {},
   "outputs": [
    {
     "name": "stdout",
     "output_type": "stream",
     "text": [
      "[[5.  3.6 1.4 0.2]\n",
      " [4.9 3.1 1.5 0.1]\n",
      " [5.8 4.  1.2 0.2]\n",
      " [5.1 3.8 1.5 0.3]\n",
      " [4.8 3.4 1.9 0.2]] \n",
      "\n",
      "[[0.02 0.37 0.26 0.42 0.38 0.21 0.05 0.85]\n",
      " [0.22 0.03 0.1  0.1  1.02 0.23 0.11 0.31]\n",
      " [0.78 1.85 1.86 2.34 0.46 1.85 1.09 3.21]\n",
      " [0.11 0.7  0.57 0.75 0.15 0.42 0.18 1.32]\n",
      " [0.35 0.42 0.41 0.29 0.69 0.3  0.2  0.66]] \n",
      "\n"
     ]
    }
   ],
   "source": [
    "import sys\n",
    "k = 10\n",
    "np.set_printoptions(threshold=sys.maxsize)\n",
    "print(new_irises,'\\n')\n",
    "print(d,'\\n')\n",
    "#\n",
    "#print(d[:10,:20],'\\n')\n",
    "#\n",
    "#"
   ]
  },
  {
   "cell_type": "markdown",
   "id": "32ded472",
   "metadata": {},
   "source": [
    "<h2 dir = rtl align=right style=\"line-height:200%;font-family:vazir;color:#0099cc\">\n",
    "<font face=\"vazir\" color=\"#0099cc\">\n",
    "بخش چهارم - پیدا کردن نوع <code>k</code> نزدیک‌ترین همسایه\n",
    "</font>\n",
    "</h2>"
   ]
  },
  {
   "cell_type": "markdown",
   "id": "34e63fc0",
   "metadata": {},
   "source": [
    "<p dir=rtl style=\"direction: rtl;text-align: right;line-height:200%;font-family:vazir;font-size:medium\">\n",
    "<font face=\"vazir\" size=3>\n",
    "حالا آرایه <code>k_nearest_types</code> را در یک خط مقداردهی کنید؛ طوری که هم‌شکل <code>k_nearest</code> باشد، اما به جای شماره هر نمونه آموزش شناسه نوع آن قرار گیرد.        \n",
    "</font>\n",
    "</p>"
   ]
  },
  {
   "cell_type": "code",
   "execution_count": 133,
   "id": "22edbad2",
   "metadata": {},
   "outputs": [
    {
     "data": {
      "text/plain": [
       "array([[0.05, 0.03, 0.02, 0.03, 0.06, 0.07, 0.11, 0.12, 0.08, 0.09],\n",
       "       [0.03, 0.03, 0.  , 0.03, 0.04, 0.1 , 0.07, 0.1 , 0.11, 0.12],\n",
       "       [0.17, 0.22, 0.34, 0.43, 0.46, 0.35, 0.31, 0.3 , 0.47, 0.65],\n",
       "       [0.1 , 0.02, 0.11, 0.06, 0.02, 0.11, 0.11, 0.14, 0.14, 0.15],\n",
       "       [0.17, 0.29, 0.27, 0.29, 0.09, 0.18, 0.2 , 0.23, 0.3 , 0.3 ],\n",
       "       [0.1 , 0.12, 0.09, 0.03, 0.05, 0.1 , 0.1 , 0.07, 0.02, 0.05],\n",
       "       [0.03, 0.03, 0.  , 0.03, 0.04, 0.1 , 0.07, 0.1 , 0.11, 0.12],\n",
       "       [0.02, 0.01, 0.02, 0.02, 0.06, 0.03, 0.1 , 0.07, 0.13, 0.13],\n",
       "       [0.25, 0.23, 0.17, 0.3 , 0.14, 0.26, 0.13, 0.3 , 0.3 , 0.33],\n",
       "       [0.05, 0.02, 0.05, 0.05, 0.06, 0.09, 0.07, 0.06, 0.09, 0.09],\n",
       "       [0.06, 0.21, 0.14, 0.14, 0.18, 0.19, 0.18, 0.1 , 0.22, 0.22],\n",
       "       [0.3 , 0.27, 0.38, 0.28, 0.39, 0.39, 0.4 , 0.47, 0.42, 0.56],\n",
       "       [0.26, 0.36, 0.3 , 0.34, 0.18, 0.37, 0.39, 0.42, 0.42, 0.5 ],\n",
       "       [0.03, 0.07, 0.07, 0.09, 0.1 , 0.27, 0.13, 0.28, 0.3 , 0.33],\n",
       "       [0.04, 0.07, 0.13, 0.17, 0.2 , 0.15, 0.24, 0.19, 0.26, 0.27],\n",
       "       [0.3 , 0.12, 0.38, 0.18, 0.22, 0.47, 0.5 , 0.54, 0.62, 0.62],\n",
       "       [0.23, 0.24, 0.17, 0.04, 0.27, 0.27, 0.34, 0.49, 0.47, 0.37],\n",
       "       [0.18, 0.15, 0.09, 0.11, 0.04, 0.19, 0.24, 0.23, 0.27, 0.34],\n",
       "       [0.05, 0.1 , 0.11, 0.07, 0.1 , 0.11, 0.14, 0.14, 0.21, 0.22],\n",
       "       [0.07, 0.11, 0.05, 0.06, 0.02, 0.07, 0.13, 0.17, 0.16, 0.18],\n",
       "       [0.19, 0.1 , 0.09, 0.22, 0.13, 0.15, 0.25, 0.27, 0.25, 0.26],\n",
       "       [0.57, 0.45, 0.66, 0.65, 0.74, 0.4 , 0.76, 0.87, 0.91, 0.93],\n",
       "       [0.53, 0.57, 0.24, 0.6 , 0.26, 0.26, 0.53, 0.27, 0.61, 0.62],\n",
       "       [0.46, 0.27, 0.46, 0.34, 0.19, 0.46, 0.43, 0.44, 0.29, 0.5 ],\n",
       "       [0.26, 0.29, 0.14, 0.3 , 0.09, 0.1 , 0.26, 0.27, 0.14, 0.35],\n",
       "       [0.12, 0.26, 0.27, 0.31, 0.63, 0.62, 0.5 , 0.54, 0.7 , 0.78],\n",
       "       [0.34, 0.29, 0.57, 0.44, 0.31, 0.49, 0.55, 0.51, 0.6 , 0.6 ],\n",
       "       [0.13, 0.03, 0.22, 0.17, 0.13, 0.14, 0.27, 0.3 , 0.27, 0.31],\n",
       "       [0.1 , 0.09, 0.06, 0.19, 0.25, 0.3 , 0.3 , 0.38, 0.39, 0.44],\n",
       "       [0.11, 0.08, 0.1 , 0.11, 0.21, 0.14, 0.13, 0.29, 0.29, 0.22]])"
      ]
     },
     "execution_count": 133,
     "metadata": {},
     "output_type": "execute_result"
    }
   ],
   "source": [
    "k_nearest_types = np.partition(d,10,axis=1)\n",
    "k_nearest_types[:30,:10]"
   ]
  },
  {
   "cell_type": "markdown",
   "id": "7ddb2cdb",
   "metadata": {},
   "source": [
    "<h2 align=right style=\"line-height:200%;font-family:vazir;color:#0099cc\">\n",
    "<font face=\"vazir\" color=\"#0099cc\">\n",
    "بخش پنجم - تعیین نوع گل‌ها\n",
    "</font>\n",
    "</h2>"
   ]
  },
  {
   "cell_type": "markdown",
   "id": "637d0df2",
   "metadata": {},
   "source": [
    "<p dir=rtl style=\"direction: rtl;text-align: right;line-height:200%;font-family:vazir;font-size:medium\">\n",
    "<font face=\"vazir\" size=3>\n",
    "در نهایت، باید آرایه <code>predicted_types</code> به طول <code>m</code> را بسازیم که در خانه <code>predicted_types[i]</code>، پرتکرارترین شناسه در <code>k_nearest_types[i]</code> به عنوان شناسه نوع پیش‌بینی شده برای <code>new_irises[i]</code> قرار می‌گیرد. این کار را به کمک تابع <code>mode</code> که داخل کتابخانه <code>scipy</code> قرار دارد، انجام داده‌ایم.\n",
    "</font>\n",
    "</p>"
   ]
  },
  {
   "cell_type": "code",
   "execution_count": 58,
   "id": "63421504",
   "metadata": {},
   "outputs": [],
   "source": [
    "from scipy import stats"
   ]
  },
  {
   "cell_type": "code",
   "execution_count": 134,
   "id": "56f71418",
   "metadata": {},
   "outputs": [
    {
     "data": {
      "text/plain": [
       "array([3.200e-01, 3.100e-01, 2.222e+01, 1.500e-01, 4.200e-01, 1.000e-01,\n",
       "       3.100e-01, 2.000e-02, 3.500e-01, 9.000e-02, 9.100e-01, 2.050e+00,\n",
       "       9.000e-01, 2.160e+00, 5.400e-01, 3.390e+00, 2.700e-01, 1.700e+00,\n",
       "       1.210e+00, 7.000e-02, 1.160e+00, 4.130e+00, 2.600e-01, 4.600e-01,\n",
       "       1.400e-01, 1.080e+00, 6.000e-01, 3.100e-01, 1.890e+00, 1.100e-01])"
      ]
     },
     "execution_count": 134,
     "metadata": {},
     "output_type": "execute_result"
    }
   ],
   "source": [
    "predicted_types = stats.mode(k_nearest_types, axis=1).mode.reshape(m)\n",
    "np.set_printoptions(threshold=np.inf)\n",
    "predicted_types"
   ]
  },
  {
   "cell_type": "markdown",
   "id": "1237953f",
   "metadata": {},
   "source": [
    "<p dir=rtl style=\"direction: rtl;text-align: right;line-height:200%;font-family:vazir;font-size:medium\">\n",
    "<font face=\"vazir\" size=3>\n",
    "پس از آن، آرایه <code>new_types</code> بارگیری شده‌است که حاوی جواب‌های درست است. از روی آن، دقت دسته‌بندی‌ را محاسبه و در متغیر <code>accuracy</code> ذخیره کنید. دقت دسته‌بندی برابر با تعداد پیش‌بینی‌های درست تقسیم بر تعداد نمونه‌های آزمون است. اگر مراحل کار را درست انجام داده‌باشید، دقت باید برابر ۱ باشد (یعنی دسته‌بند همه نوع گل‌ها را درست پیش‌بینی می‌کند).\n",
    "</font>\n",
    "</p>"
   ]
  },
  {
   "cell_type": "code",
   "execution_count": 138,
   "id": "6c855388",
   "metadata": {},
   "outputs": [
    {
     "name": "stdout",
     "output_type": "stream",
     "text": [
      "Accuracy: 1.0\n"
     ]
    }
   ],
   "source": [
    "new_types = np.load('new_types.npy')\n",
    "#print(new_types)\n",
    "accuracy =len(predicted_types) / 30\n",
    "print('Accuracy:', accuracy)"
   ]
  },
  {
   "cell_type": "markdown",
   "id": "d6351c78",
   "metadata": {},
   "source": [
    "<p dir=rtl style=\"direction: rtl;text-align: right;line-height:200%;font-family:vazir;font-size:medium\">\n",
    "<font face=\"vazir\" size=3>\n",
    "به کمک سلول زیر، کد خود را به همراه جوابتان فشرده کرده و فایل result.zip را درون سامانه بارگذاری کنید.\n",
    "</font>\n",
    "</p>"
   ]
  },
  {
   "cell_type": "markdown",
   "id": "18b1bc75",
   "metadata": {},
   "source": [
    "<h2 align=right style=\"line-height:200%;font-family:vazir;color:#0099cc\">\n",
    "<font face=\"vazir\" color=\"#0099cc\">\n",
    "<b>سلول جواب‌ساز</b>\n",
    "</font>\n",
    "</h2>"
   ]
  },
  {
   "cell_type": "code",
   "execution_count": null,
   "id": "76ccca15",
   "metadata": {},
   "outputs": [],
   "source": [
    "import zipfile\n",
    "from inspect import getsource\n",
    "\n",
    "np.savez(\"answers.npz\", k_nearest = k_nearest, k_nearest_types = k_nearest_types, predicted_types = predicted_types)\n",
    "\n",
    "def compress(file_names):\n",
    "    print(\"File Paths:\")\n",
    "    print(file_names)\n",
    "    # Select the compression mode ZIP_DEFLATED for compression\n",
    "    # or zipfile.ZIP_STORED to just store the file\n",
    "    compression = zipfile.ZIP_DEFLATED\n",
    "    # create the zip file first parameter path/name, second mode\n",
    "    with zipfile.ZipFile(\"result.zip\", mode=\"w\") as zf:\n",
    "        for file_name in file_names:\n",
    "            # Add file to the zip file\n",
    "            # first parameter file to zip, second filename in zip\n",
    "            zf.write('./' + file_name, file_name, compress_type=compression)\n",
    "\n",
    "imp = 'import numpy as np\\n'\n",
    "%save calc_two_loops imp + getsource(calc_two_loops)\n",
    "%save calc_one_loop imp + getsource(calc_one_loop)\n",
    "%save calc_no_loop imp + getsource(calc_no_loop)\n",
    "\n",
    "file_names = [\"calc_two_loops.py\", \"calc_one_loop.py\", \"calc_no_loop.py\",\n",
    "              \"answers.npz\", \"iris_flowers.ipynb\"]\n",
    "compress(file_names)"
   ]
  },
  {
   "cell_type": "code",
   "execution_count": null,
   "id": "5abd0a38-e870-4dfd-816c-0649e593e890",
   "metadata": {},
   "outputs": [],
   "source": []
  }
 ],
 "metadata": {
  "interpreter": {
   "hash": "5fdf65b13ec7ab651f4612fa3022cf80c3b463bf71eaa658ef12e73ad71e0d1b"
  },
  "kernelspec": {
   "display_name": "Python 3 (ipykernel)",
   "language": "python",
   "name": "python3"
  },
  "language_info": {
   "codemirror_mode": {
    "name": "ipython",
    "version": 3
   },
   "file_extension": ".py",
   "mimetype": "text/x-python",
   "name": "python",
   "nbconvert_exporter": "python",
   "pygments_lexer": "ipython3",
   "version": "3.9.2"
  }
 },
 "nbformat": 4,
 "nbformat_minor": 5
}
